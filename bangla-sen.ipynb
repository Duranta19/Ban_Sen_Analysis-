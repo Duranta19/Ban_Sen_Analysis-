{
 "cells": [
  {
   "cell_type": "code",
   "execution_count": 1,
   "id": "c0abc4c4",
   "metadata": {
    "execution": {
     "iopub.execute_input": "2023-09-04T14:03:57.587350Z",
     "iopub.status.busy": "2023-09-04T14:03:57.586833Z",
     "iopub.status.idle": "2023-09-04T14:03:57.601168Z",
     "shell.execute_reply": "2023-09-04T14:03:57.600209Z"
    },
    "id": "_BND9NFco-Us",
    "outputId": "80b34bf4-2166-4d4e-88a6-677a223022a6",
    "papermill": {
     "duration": 0.037452,
     "end_time": "2023-09-04T14:03:57.603586",
     "exception": false,
     "start_time": "2023-09-04T14:03:57.566134",
     "status": "completed"
    },
    "tags": []
   },
   "outputs": [
    {
     "name": "stdout",
     "output_type": "stream",
     "text": [
      "bangla sentiment analysis final version\n"
     ]
    }
   ],
   "source": [
    "print(\"bangla sentiment analysis final version\")"
   ]
  },
  {
   "cell_type": "code",
   "execution_count": 2,
   "id": "08a49e9a",
   "metadata": {
    "execution": {
     "iopub.execute_input": "2023-09-04T14:03:57.645519Z",
     "iopub.status.busy": "2023-09-04T14:03:57.644503Z",
     "iopub.status.idle": "2023-09-04T14:03:57.649593Z",
     "shell.execute_reply": "2023-09-04T14:03:57.648585Z"
    },
    "id": "f7856pA-pXCk",
    "papermill": {
     "duration": 0.027891,
     "end_time": "2023-09-04T14:03:57.651829",
     "exception": false,
     "start_time": "2023-09-04T14:03:57.623938",
     "status": "completed"
    },
    "tags": []
   },
   "outputs": [],
   "source": [
    "import pandas as pd\n",
    "import numpy as np"
   ]
  },
  {
   "cell_type": "code",
   "execution_count": 3,
   "id": "2cc62d7d",
   "metadata": {
    "execution": {
     "iopub.execute_input": "2023-09-04T14:03:57.692522Z",
     "iopub.status.busy": "2023-09-04T14:03:57.692162Z",
     "iopub.status.idle": "2023-09-04T14:03:59.433415Z",
     "shell.execute_reply": "2023-09-04T14:03:59.432217Z"
    },
    "id": "6yqbMEjopSfl",
    "papermill": {
     "duration": 1.764919,
     "end_time": "2023-09-04T14:03:59.436389",
     "exception": false,
     "start_time": "2023-09-04T14:03:57.671470",
     "status": "completed"
    },
    "tags": []
   },
   "outputs": [],
   "source": [
    "path1 = \"/kaggle/input/bangla-yt-sen/final_sen.xlsx\"\n",
    "\n",
    "data1 = pd.read_excel(path1)\n"
   ]
  },
  {
   "cell_type": "code",
   "execution_count": 4,
   "id": "4e56f45a",
   "metadata": {
    "execution": {
     "iopub.execute_input": "2023-09-04T14:03:59.479210Z",
     "iopub.status.busy": "2023-09-04T14:03:59.477723Z",
     "iopub.status.idle": "2023-09-04T14:03:59.499103Z",
     "shell.execute_reply": "2023-09-04T14:03:59.498089Z"
    },
    "id": "wpQBRhLFpecM",
    "outputId": "12aa3d38-71d5-41d0-d366-27fdd3f84a15",
    "papermill": {
     "duration": 0.045022,
     "end_time": "2023-09-04T14:03:59.501402",
     "exception": false,
     "start_time": "2023-09-04T14:03:59.456380",
     "status": "completed"
    },
    "tags": []
   },
   "outputs": [
    {
     "data": {
      "text/plain": [
       "positive    5176\n",
       "nutral      5126\n",
       "negative    4548\n",
       "Name: label, dtype: int64"
      ]
     },
     "execution_count": 4,
     "metadata": {},
     "output_type": "execute_result"
    }
   ],
   "source": [
    "data1['label'].value_counts()"
   ]
  },
  {
   "cell_type": "code",
   "execution_count": 5,
   "id": "00fd9bef",
   "metadata": {
    "execution": {
     "iopub.execute_input": "2023-09-04T14:03:59.545231Z",
     "iopub.status.busy": "2023-09-04T14:03:59.544121Z",
     "iopub.status.idle": "2023-09-04T14:03:59.640129Z",
     "shell.execute_reply": "2023-09-04T14:03:59.639067Z"
    },
    "papermill": {
     "duration": 0.120612,
     "end_time": "2023-09-04T14:03:59.642757",
     "exception": false,
     "start_time": "2023-09-04T14:03:59.522145",
     "status": "completed"
    },
    "tags": []
   },
   "outputs": [
    {
     "data": {
      "text/plain": [
       "positive    5133\n",
       "negative    4548\n",
       "nutral      2894\n",
       "Name: label, dtype: int64"
      ]
     },
     "execution_count": 5,
     "metadata": {},
     "output_type": "execute_result"
    }
   ],
   "source": [
    "path2 = \"/kaggle/input/d/abusayemmdsiam19/sen-data2/sen_data2.csv\"\n",
    "\n",
    "data2 = pd.read_csv(path2)\n",
    "data2['label'].value_counts()"
   ]
  },
  {
   "cell_type": "code",
   "execution_count": 6,
   "id": "5149d15d",
   "metadata": {
    "execution": {
     "iopub.execute_input": "2023-09-04T14:03:59.683530Z",
     "iopub.status.busy": "2023-09-04T14:03:59.683149Z",
     "iopub.status.idle": "2023-09-04T14:03:59.698765Z",
     "shell.execute_reply": "2023-09-04T14:03:59.697596Z"
    },
    "papermill": {
     "duration": 0.039139,
     "end_time": "2023-09-04T14:03:59.701901",
     "exception": false,
     "start_time": "2023-09-04T14:03:59.662762",
     "status": "completed"
    },
    "tags": []
   },
   "outputs": [
    {
     "data": {
      "text/plain": [
       "positive    10309\n",
       "negative     9096\n",
       "nutral       8020\n",
       "Name: label, dtype: int64"
      ]
     },
     "execution_count": 6,
     "metadata": {},
     "output_type": "execute_result"
    }
   ],
   "source": [
    "data = pd.concat([data1,data2])\n",
    "data['label'].value_counts()"
   ]
  },
  {
   "cell_type": "code",
   "execution_count": 7,
   "id": "cac15db8",
   "metadata": {
    "execution": {
     "iopub.execute_input": "2023-09-04T14:03:59.744103Z",
     "iopub.status.busy": "2023-09-04T14:03:59.742350Z",
     "iopub.status.idle": "2023-09-04T14:03:59.762031Z",
     "shell.execute_reply": "2023-09-04T14:03:59.761035Z"
    },
    "papermill": {
     "duration": 0.042683,
     "end_time": "2023-09-04T14:03:59.764434",
     "exception": false,
     "start_time": "2023-09-04T14:03:59.721751",
     "status": "completed"
    },
    "tags": []
   },
   "outputs": [],
   "source": [
    "temp_df1 = data[data['label'] == 'positive']\n",
    "temp_df2 = data[data['label'] == 'negative']"
   ]
  },
  {
   "cell_type": "code",
   "execution_count": 8,
   "id": "280044e5",
   "metadata": {
    "execution": {
     "iopub.execute_input": "2023-09-04T14:03:59.805527Z",
     "iopub.status.busy": "2023-09-04T14:03:59.805141Z",
     "iopub.status.idle": "2023-09-04T14:03:59.818986Z",
     "shell.execute_reply": "2023-09-04T14:03:59.817731Z"
    },
    "papermill": {
     "duration": 0.037317,
     "end_time": "2023-09-04T14:03:59.821253",
     "exception": false,
     "start_time": "2023-09-04T14:03:59.783936",
     "status": "completed"
    },
    "tags": []
   },
   "outputs": [
    {
     "data": {
      "text/plain": [
       "positive    10309\n",
       "negative     9096\n",
       "Name: label, dtype: int64"
      ]
     },
     "execution_count": 8,
     "metadata": {},
     "output_type": "execute_result"
    }
   ],
   "source": [
    "temp_data = pd.concat([temp_df1,temp_df2])\n",
    "temp_data['label'].value_counts()"
   ]
  },
  {
   "cell_type": "code",
   "execution_count": 9,
   "id": "e6d0257f",
   "metadata": {
    "execution": {
     "iopub.execute_input": "2023-09-04T14:03:59.863032Z",
     "iopub.status.busy": "2023-09-04T14:03:59.862152Z",
     "iopub.status.idle": "2023-09-04T14:03:59.867807Z",
     "shell.execute_reply": "2023-09-04T14:03:59.866859Z"
    },
    "id": "cEoA5Qd1qNR-",
    "papermill": {
     "duration": 0.028824,
     "end_time": "2023-09-04T14:03:59.870134",
     "exception": false,
     "start_time": "2023-09-04T14:03:59.841310",
     "status": "completed"
    },
    "tags": []
   },
   "outputs": [],
   "source": [
    "X = temp_data.loc[:,\"text\"]\n",
    "Y = temp_data.loc[:,\"label\"]"
   ]
  },
  {
   "cell_type": "code",
   "execution_count": 10,
   "id": "455c88d4",
   "metadata": {
    "execution": {
     "iopub.execute_input": "2023-09-04T14:03:59.911335Z",
     "iopub.status.busy": "2023-09-04T14:03:59.910457Z",
     "iopub.status.idle": "2023-09-04T14:03:59.917384Z",
     "shell.execute_reply": "2023-09-04T14:03:59.916213Z"
    },
    "id": "IBTOeKW2qfwn",
    "outputId": "31b17094-2324-444a-fbaa-28b70d232b06",
    "papermill": {
     "duration": 0.029811,
     "end_time": "2023-09-04T14:03:59.919647",
     "exception": false,
     "start_time": "2023-09-04T14:03:59.889836",
     "status": "completed"
    },
    "tags": []
   },
   "outputs": [
    {
     "data": {
      "text/plain": [
       "19405"
      ]
     },
     "execution_count": 10,
     "metadata": {},
     "output_type": "execute_result"
    }
   ],
   "source": [
    "len(X)"
   ]
  },
  {
   "cell_type": "code",
   "execution_count": 11,
   "id": "cb3f7b66",
   "metadata": {
    "execution": {
     "iopub.execute_input": "2023-09-04T14:03:59.961440Z",
     "iopub.status.busy": "2023-09-04T14:03:59.960500Z",
     "iopub.status.idle": "2023-09-04T14:04:14.541579Z",
     "shell.execute_reply": "2023-09-04T14:04:14.540300Z"
    },
    "id": "5gNccaXQ3djJ",
    "outputId": "f4ac0d65-03cd-471d-947d-90749d5da180",
    "papermill": {
     "duration": 14.604815,
     "end_time": "2023-09-04T14:04:14.544220",
     "exception": false,
     "start_time": "2023-09-04T14:03:59.939405",
     "status": "completed"
    },
    "tags": []
   },
   "outputs": [
    {
     "name": "stdout",
     "output_type": "stream",
     "text": [
      "Collecting bangla-stemmer\r\n",
      "  Downloading bangla_stemmer-1.0-py3-none-any.whl (9.1 kB)\r\n",
      "Installing collected packages: bangla-stemmer\r\n",
      "Successfully installed bangla-stemmer-1.0\r\n"
     ]
    }
   ],
   "source": [
    "!pip install bangla-stemmer"
   ]
  },
  {
   "cell_type": "code",
   "execution_count": 12,
   "id": "9ef6eb42",
   "metadata": {
    "execution": {
     "iopub.execute_input": "2023-09-04T14:04:14.587224Z",
     "iopub.status.busy": "2023-09-04T14:04:14.586029Z",
     "iopub.status.idle": "2023-09-04T14:04:30.225010Z",
     "shell.execute_reply": "2023-09-04T14:04:30.223678Z"
    },
    "id": "K-INg9PV3ij5",
    "outputId": "93dab537-ad81-4c3a-8dcf-7bed9802566a",
    "papermill": {
     "duration": 15.662797,
     "end_time": "2023-09-04T14:04:30.227830",
     "exception": false,
     "start_time": "2023-09-04T14:04:14.565033",
     "status": "completed"
    },
    "tags": []
   },
   "outputs": [
    {
     "name": "stdout",
     "output_type": "stream",
     "text": [
      "Collecting langdetect\r\n",
      "  Downloading langdetect-1.0.9.tar.gz (981 kB)\r\n",
      "\u001b[2K     \u001b[90m━━━━━━━━━━━━━━━━━━━━━━━━━━━━━━━━━━━━━━\u001b[0m \u001b[32m981.5/981.5 kB\u001b[0m \u001b[31m15.1 MB/s\u001b[0m eta \u001b[36m0:00:00\u001b[0m\r\n",
      "\u001b[?25h  Preparing metadata (setup.py) ... \u001b[?25l-\b \b\\\b \bdone\r\n",
      "\u001b[?25hRequirement already satisfied: bangla-stemmer in /opt/conda/lib/python3.10/site-packages (1.0)\r\n",
      "Requirement already satisfied: six in /opt/conda/lib/python3.10/site-packages (from langdetect) (1.16.0)\r\n",
      "Building wheels for collected packages: langdetect\r\n",
      "  Building wheel for langdetect (setup.py) ... \u001b[?25l-\b \b\\\b \b|\b \bdone\r\n",
      "\u001b[?25h  Created wheel for langdetect: filename=langdetect-1.0.9-py3-none-any.whl size=993241 sha256=dc8229db993d92e756be4b0d547ccba770fb860a2e6693abad8d7460e4773930\r\n",
      "  Stored in directory: /root/.cache/pip/wheels/95/03/7d/59ea870c70ce4e5a370638b5462a7711ab78fba2f655d05106\r\n",
      "Successfully built langdetect\r\n",
      "Installing collected packages: langdetect\r\n",
      "Successfully installed langdetect-1.0.9\r\n"
     ]
    }
   ],
   "source": [
    "!pip install langdetect bangla-stemmer"
   ]
  },
  {
   "cell_type": "code",
   "execution_count": 13,
   "id": "45f18a81",
   "metadata": {
    "execution": {
     "iopub.execute_input": "2023-09-04T14:04:30.274854Z",
     "iopub.status.busy": "2023-09-04T14:04:30.274455Z",
     "iopub.status.idle": "2023-09-04T14:04:30.294713Z",
     "shell.execute_reply": "2023-09-04T14:04:30.293763Z"
    },
    "id": "Yjjx8pNt3pDp",
    "papermill": {
     "duration": 0.049347,
     "end_time": "2023-09-04T14:04:30.297195",
     "exception": false,
     "start_time": "2023-09-04T14:04:30.247848",
     "status": "completed"
    },
    "tags": []
   },
   "outputs": [],
   "source": [
    "import re\n",
    "from langdetect import detect\n",
    "from bangla_stemmer.stemmer import stemmer"
   ]
  },
  {
   "cell_type": "code",
   "execution_count": 14,
   "id": "b8ace1bb",
   "metadata": {
    "execution": {
     "iopub.execute_input": "2023-09-04T14:04:30.340429Z",
     "iopub.status.busy": "2023-09-04T14:04:30.339324Z",
     "iopub.status.idle": "2023-09-04T14:04:30.346015Z",
     "shell.execute_reply": "2023-09-04T14:04:30.345064Z"
    },
    "id": "GsFGPMGX3tix",
    "papermill": {
     "duration": 0.030038,
     "end_time": "2023-09-04T14:04:30.348225",
     "exception": false,
     "start_time": "2023-09-04T14:04:30.318187",
     "status": "completed"
    },
    "tags": []
   },
   "outputs": [],
   "source": [
    "def is_bangla_word(word):\n",
    "    return all('\\u0980' <= char <= '\\u09FF' for char in word)\n",
    "\n",
    "def remove_emojis(text):\n",
    "    emoji_pattern = re.compile(\"[\"\n",
    "                               \"\\U0001F600-\\U0001F64F\"  # Emoticons\n",
    "                               \"\\U0001F300-\\U0001F5FF\"  # Symbols & Pictographs\n",
    "                               # Add more emoji ranges as needed\n",
    "                               \"]+\", flags=re.UNICODE)\n",
    "    return emoji_pattern.sub('', text)\n",
    "\n"
   ]
  },
  {
   "cell_type": "code",
   "execution_count": 15,
   "id": "495a6f76",
   "metadata": {
    "execution": {
     "iopub.execute_input": "2023-09-04T14:04:30.391494Z",
     "iopub.status.busy": "2023-09-04T14:04:30.390371Z",
     "iopub.status.idle": "2023-09-04T14:04:30.397291Z",
     "shell.execute_reply": "2023-09-04T14:04:30.396379Z"
    },
    "id": "N75vuQHs3xSR",
    "papermill": {
     "duration": 0.030562,
     "end_time": "2023-09-04T14:04:30.399559",
     "exception": false,
     "start_time": "2023-09-04T14:04:30.368997",
     "status": "completed"
    },
    "tags": []
   },
   "outputs": [],
   "source": [
    "from langdetect.lang_detect_exception import LangDetectException\n",
    "def clean_bangla_sentence(sentence):\n",
    "    cleaned_words = []\n",
    "    words = sentence.split()\n",
    "    for word in words:\n",
    "        if is_bangla_word(word):\n",
    "            try:\n",
    "                if detect(word) != 'en':\n",
    "                    cleaned_words.append(word)\n",
    "            except LangDetectException:\n",
    "                pass\n",
    "    return ' '.join(cleaned_words)"
   ]
  },
  {
   "cell_type": "code",
   "execution_count": 16,
   "id": "f3819b92",
   "metadata": {
    "execution": {
     "iopub.execute_input": "2023-09-04T14:04:30.443694Z",
     "iopub.status.busy": "2023-09-04T14:04:30.442672Z",
     "iopub.status.idle": "2023-09-04T14:04:43.335824Z",
     "shell.execute_reply": "2023-09-04T14:04:43.334594Z"
    },
    "papermill": {
     "duration": 12.917827,
     "end_time": "2023-09-04T14:04:43.338851",
     "exception": false,
     "start_time": "2023-09-04T14:04:30.421024",
     "status": "completed"
    },
    "tags": []
   },
   "outputs": [
    {
     "name": "stdout",
     "output_type": "stream",
     "text": [
      "Requirement already satisfied: scikit-learn in /opt/conda/lib/python3.10/site-packages (1.2.2)\r\n",
      "Requirement already satisfied: numpy>=1.17.3 in /opt/conda/lib/python3.10/site-packages (from scikit-learn) (1.23.5)\r\n",
      "Requirement already satisfied: scipy>=1.3.2 in /opt/conda/lib/python3.10/site-packages (from scikit-learn) (1.11.1)\r\n",
      "Requirement already satisfied: joblib>=1.1.1 in /opt/conda/lib/python3.10/site-packages (from scikit-learn) (1.2.0)\r\n",
      "Requirement already satisfied: threadpoolctl>=2.0.0 in /opt/conda/lib/python3.10/site-packages (from scikit-learn) (3.1.0)\r\n"
     ]
    }
   ],
   "source": [
    "!pip install scikit-learn"
   ]
  },
  {
   "cell_type": "code",
   "execution_count": 17,
   "id": "983fec3b",
   "metadata": {
    "execution": {
     "iopub.execute_input": "2023-09-04T14:04:43.382279Z",
     "iopub.status.busy": "2023-09-04T14:04:43.381897Z",
     "iopub.status.idle": "2023-09-04T14:04:48.054772Z",
     "shell.execute_reply": "2023-09-04T14:04:48.053535Z"
    },
    "id": "zYT4TWwH06Nv",
    "outputId": "104a13c3-e118-4c35-a4dd-53b393eaa45a",
    "papermill": {
     "duration": 4.69714,
     "end_time": "2023-09-04T14:04:48.057546",
     "exception": false,
     "start_time": "2023-09-04T14:04:43.360406",
     "status": "completed"
    },
    "tags": []
   },
   "outputs": [
    {
     "name": "stdout",
     "output_type": "stream",
     "text": [
      "Collecting bltk\r\n",
      "  Downloading bltk-1.2.tar.gz (17.4 MB)\r\n",
      "\u001b[2K     \u001b[90m━━━━━━━━━━━━━━━━━━━━━━━━━━━━━━━━━━━━━━━━\u001b[0m \u001b[32m17.4/17.4 MB\u001b[0m \u001b[31m58.4 MB/s\u001b[0m eta \u001b[36m0:00:00\u001b[0m\r\n",
      "\u001b[?25h  Preparing metadata (setup.py) ... \u001b[?25l-\b \b\\\b \bdone\r\n",
      "\u001b[?25hCollecting sklearn>=0.0 (from bltk)\r\n",
      "  Downloading sklearn-0.0.post7.tar.gz (3.6 kB)\r\n",
      "  Preparing metadata (setup.py) ... \u001b[?25l-\b \berror\r\n",
      "  \u001b[1;31merror\u001b[0m: \u001b[1msubprocess-exited-with-error\u001b[0m\r\n",
      "  \r\n",
      "  \u001b[31m×\u001b[0m \u001b[32mpython setup.py egg_info\u001b[0m did not run successfully.\r\n",
      "  \u001b[31m│\u001b[0m exit code: \u001b[1;36m1\u001b[0m\r\n",
      "  \u001b[31m╰─>\u001b[0m \u001b[31m[18 lines of output]\u001b[0m\r\n",
      "  \u001b[31m   \u001b[0m The 'sklearn' PyPI package is deprecated, use 'scikit-learn'\r\n",
      "  \u001b[31m   \u001b[0m rather than 'sklearn' for pip commands.\r\n",
      "  \u001b[31m   \u001b[0m \r\n",
      "  \u001b[31m   \u001b[0m Here is how to fix this error in the main use cases:\r\n",
      "  \u001b[31m   \u001b[0m - use 'pip install scikit-learn' rather than 'pip install sklearn'\r\n",
      "  \u001b[31m   \u001b[0m - replace 'sklearn' by 'scikit-learn' in your pip requirements files\r\n",
      "  \u001b[31m   \u001b[0m   (requirements.txt, setup.py, setup.cfg, Pipfile, etc ...)\r\n",
      "  \u001b[31m   \u001b[0m - if the 'sklearn' package is used by one of your dependencies,\r\n",
      "  \u001b[31m   \u001b[0m   it would be great if you take some time to track which package uses\r\n",
      "  \u001b[31m   \u001b[0m   'sklearn' instead of 'scikit-learn' and report it to their issue tracker\r\n",
      "  \u001b[31m   \u001b[0m - as a last resort, set the environment variable\r\n",
      "  \u001b[31m   \u001b[0m   SKLEARN_ALLOW_DEPRECATED_SKLEARN_PACKAGE_INSTALL=True to avoid this error\r\n",
      "  \u001b[31m   \u001b[0m \r\n",
      "  \u001b[31m   \u001b[0m More information is available at\r\n",
      "  \u001b[31m   \u001b[0m https://github.com/scikit-learn/sklearn-pypi-package\r\n",
      "  \u001b[31m   \u001b[0m \r\n",
      "  \u001b[31m   \u001b[0m If the previous advice does not cover your use case, feel free to report it at\r\n",
      "  \u001b[31m   \u001b[0m https://github.com/scikit-learn/sklearn-pypi-package/issues/new\r\n",
      "  \u001b[31m   \u001b[0m \u001b[31m[end of output]\u001b[0m\r\n",
      "  \r\n",
      "  \u001b[1;35mnote\u001b[0m: This error originates from a subprocess, and is likely not a problem with pip.\r\n",
      "\u001b[1;31merror\u001b[0m: \u001b[1mmetadata-generation-failed\u001b[0m\r\n",
      "\r\n",
      "\u001b[31m×\u001b[0m Encountered error while generating package metadata.\r\n",
      "\u001b[31m╰─>\u001b[0m See above for output.\r\n",
      "\r\n",
      "\u001b[1;35mnote\u001b[0m: This is an issue with the package mentioned above, not pip.\r\n",
      "\u001b[1;36mhint\u001b[0m: See above for details.\r\n",
      "\u001b[?25h"
     ]
    }
   ],
   "source": [
    "!pip install bltk"
   ]
  },
  {
   "cell_type": "code",
   "execution_count": 18,
   "id": "945a3269",
   "metadata": {
    "execution": {
     "iopub.execute_input": "2023-09-04T14:04:48.106224Z",
     "iopub.status.busy": "2023-09-04T14:04:48.105135Z",
     "iopub.status.idle": "2023-09-04T14:04:48.463341Z",
     "shell.execute_reply": "2023-09-04T14:04:48.461931Z"
    },
    "id": "nBKGj17O4Shy",
    "outputId": "ca93afdb-40cf-43ad-f4d8-40ad01982468",
    "papermill": {
     "duration": 0.384302,
     "end_time": "2023-09-04T14:04:48.464935",
     "exception": true,
     "start_time": "2023-09-04T14:04:48.080633",
     "status": "failed"
    },
    "tags": []
   },
   "outputs": [
    {
     "ename": "ModuleNotFoundError",
     "evalue": "No module named 'bltk'",
     "output_type": "error",
     "traceback": [
      "\u001b[0;31m---------------------------------------------------------------------------\u001b[0m",
      "\u001b[0;31mModuleNotFoundError\u001b[0m                       Traceback (most recent call last)",
      "Cell \u001b[0;32mIn[18], line 1\u001b[0m\n\u001b[0;32m----> 1\u001b[0m \u001b[38;5;28;01mfrom\u001b[39;00m \u001b[38;5;21;01mbltk\u001b[39;00m\u001b[38;5;21;01m.\u001b[39;00m\u001b[38;5;21;01mlangtools\u001b[39;00m \u001b[38;5;28;01mimport\u001b[39;00m Tokenizer\n\u001b[1;32m      2\u001b[0m \u001b[38;5;28;01mfrom\u001b[39;00m \u001b[38;5;21;01mbltk\u001b[39;00m\u001b[38;5;21;01m.\u001b[39;00m\u001b[38;5;21;01mlangtools\u001b[39;00m \u001b[38;5;28;01mimport\u001b[39;00m remove_stopwords\n\u001b[1;32m      3\u001b[0m \u001b[38;5;28;01mfrom\u001b[39;00m \u001b[38;5;21;01mbangla_stemmer\u001b[39;00m\u001b[38;5;21;01m.\u001b[39;00m\u001b[38;5;21;01mstemmer\u001b[39;00m \u001b[38;5;28;01mimport\u001b[39;00m stemmer\n",
      "\u001b[0;31mModuleNotFoundError\u001b[0m: No module named 'bltk'"
     ]
    }
   ],
   "source": [
    "from bltk.langtools import Tokenizer\n",
    "from bltk.langtools import remove_stopwords\n",
    "from bangla_stemmer.stemmer import stemmer\n",
    "tokenizer = Tokenizer()\n",
    "\n",
    "def dataPreProcess(text):\n",
    "  clean_sen =[]\n",
    "  token_word = tokenizer.word_tokenizer(text)\n",
    "  clean_sen = remove_stopwords(token_word, level='moderate')\n",
    "#   stmr = stemmer.BanglaStemmer()\n",
    "#   stm = stmr.stem(clean_sen)\n",
    "  sentence = ' '.join(clean_sen)\n",
    "  return sentence"
   ]
  },
  {
   "cell_type": "code",
   "execution_count": null,
   "id": "6b680448",
   "metadata": {
    "papermill": {
     "duration": null,
     "end_time": null,
     "exception": null,
     "start_time": null,
     "status": "pending"
    },
    "tags": []
   },
   "outputs": [],
   "source": []
  },
  {
   "cell_type": "code",
   "execution_count": null,
   "id": "1d5147ce",
   "metadata": {
    "execution": {
     "iopub.execute_input": "2023-08-22T08:38:31.052104Z",
     "iopub.status.busy": "2023-08-22T08:38:31.051517Z",
     "iopub.status.idle": "2023-08-22T08:38:31.074707Z",
     "shell.execute_reply": "2023-08-22T08:38:31.073381Z",
     "shell.execute_reply.started": "2023-08-22T08:38:31.052067Z"
    },
    "id": "qEWupAil31gq",
    "papermill": {
     "duration": null,
     "end_time": null,
     "exception": null,
     "start_time": null,
     "status": "pending"
    },
    "tags": []
   },
   "outputs": [],
   "source": [
    "bangla_sentence = \"কমেন্ট না করে থাকতে পারলাম না,,<br>অসাধারণ অভিনয় করেছেন সকলেই, যা বলার মতো না,,বিশেষ করে অর্পূব বেষ্ট,,❤️❤️<br>নাটকটি দেখে ইমোশনাল হয়েগিয়েছিলাম,😥😥<br>একটি পরিবারে বড় ভাইয়ের অবদান অনেক,, আমরা সকলেই আমাদের বড় ভাইদের সম্মান করি ও তাদেরকে ভালোবাসি,,❤️❤️এবং তাদের মনে কখনো কষ্ট না দেই🤲🤲\"\n",
    "t = \"বসুন্ধরা শাখার হাজি বিরিয়ানি একবারেই ফালতু\"\n",
    "print(t)\n",
    "cleaned_sentence = clean_bangla_sentence(remove_emojis(t))\n",
    "print(cleaned_sentence)\n",
    "clean_data = dataPreProcess(cleaned_sentence)\n",
    "print(clean_data)"
   ]
  },
  {
   "cell_type": "code",
   "execution_count": null,
   "id": "d546d41e",
   "metadata": {
    "execution": {
     "iopub.execute_input": "2023-08-22T08:38:31.078088Z",
     "iopub.status.busy": "2023-08-22T08:38:31.077033Z",
     "iopub.status.idle": "2023-08-22T08:43:17.941886Z",
     "shell.execute_reply": "2023-08-22T08:43:17.940778Z",
     "shell.execute_reply.started": "2023-08-22T08:38:31.078047Z"
    },
    "id": "6nGNOlSa4Kdq",
    "papermill": {
     "duration": null,
     "end_time": null,
     "exception": null,
     "start_time": null,
     "status": "pending"
    },
    "tags": []
   },
   "outputs": [],
   "source": [
    "new_dataX = []\n",
    "for data in X:\n",
    "  cleaned_sentence = clean_bangla_sentence(remove_emojis(data))\n",
    "  clean_data = dataPreProcess(cleaned_sentence)\n",
    "  new_dataX.append(clean_data)"
   ]
  },
  {
   "cell_type": "code",
   "execution_count": null,
   "id": "ee2376a7",
   "metadata": {
    "execution": {
     "iopub.execute_input": "2023-08-22T08:43:17.943989Z",
     "iopub.status.busy": "2023-08-22T08:43:17.943595Z",
     "iopub.status.idle": "2023-08-22T08:43:17.951810Z",
     "shell.execute_reply": "2023-08-22T08:43:17.950896Z",
     "shell.execute_reply.started": "2023-08-22T08:43:17.943952Z"
    },
    "id": "70IntrBu7zlD",
    "papermill": {
     "duration": null,
     "end_time": null,
     "exception": null,
     "start_time": null,
     "status": "pending"
    },
    "tags": []
   },
   "outputs": [],
   "source": [
    "df = pd.DataFrame(new_dataX)"
   ]
  },
  {
   "cell_type": "code",
   "execution_count": null,
   "id": "25dfb368",
   "metadata": {
    "execution": {
     "iopub.execute_input": "2023-08-22T08:43:17.954273Z",
     "iopub.status.busy": "2023-08-22T08:43:17.953205Z",
     "iopub.status.idle": "2023-08-22T08:43:21.164921Z",
     "shell.execute_reply": "2023-08-22T08:43:21.163945Z",
     "shell.execute_reply.started": "2023-08-22T08:43:17.954210Z"
    },
    "papermill": {
     "duration": null,
     "end_time": null,
     "exception": null,
     "start_time": null,
     "status": "pending"
    },
    "tags": []
   },
   "outputs": [],
   "source": [
    "# df.to_excel(\"check2.xlsx\")"
   ]
  },
  {
   "cell_type": "code",
   "execution_count": null,
   "id": "74890532",
   "metadata": {
    "execution": {
     "iopub.execute_input": "2023-08-22T09:07:56.138137Z",
     "iopub.status.busy": "2023-08-22T09:07:56.137746Z",
     "iopub.status.idle": "2023-08-22T09:07:56.152958Z",
     "shell.execute_reply": "2023-08-22T09:07:56.151824Z",
     "shell.execute_reply.started": "2023-08-22T09:07:56.138103Z"
    },
    "id": "klL2XxLb-ByH",
    "papermill": {
     "duration": null,
     "end_time": null,
     "exception": null,
     "start_time": null,
     "status": "pending"
    },
    "tags": []
   },
   "outputs": [],
   "source": [
    "from sklearn.model_selection import train_test_split\n",
    "x_train,x_test,y_train,y_test = train_test_split(new_dataX,Y, test_size=0.2)"
   ]
  },
  {
   "cell_type": "code",
   "execution_count": null,
   "id": "fe909407",
   "metadata": {
    "execution": {
     "iopub.execute_input": "2023-08-22T08:43:21.187696Z",
     "iopub.status.busy": "2023-08-22T08:43:21.187098Z",
     "iopub.status.idle": "2023-08-22T08:43:21.197954Z",
     "shell.execute_reply": "2023-08-22T08:43:21.196907Z",
     "shell.execute_reply.started": "2023-08-22T08:43:21.187659Z"
    },
    "id": "vIm2Ce3d5-j0",
    "papermill": {
     "duration": null,
     "end_time": null,
     "exception": null,
     "start_time": null,
     "status": "pending"
    },
    "tags": []
   },
   "outputs": [],
   "source": [
    "# from sklearn.feature_extraction.text import TfidfVectorizer\n",
    "# tfidf = TfidfVectorizer(max_df=0.2)\n",
    "# Tf_en_x_train = tfidf.fit_transform(x_train)\n",
    "# Tf_en_x_test = tfidf.transform(x_test)"
   ]
  },
  {
   "cell_type": "code",
   "execution_count": null,
   "id": "3c8d1853",
   "metadata": {
    "execution": {
     "iopub.execute_input": "2023-08-22T09:07:59.386591Z",
     "iopub.status.busy": "2023-08-22T09:07:59.386182Z",
     "iopub.status.idle": "2023-08-22T09:07:59.393120Z",
     "shell.execute_reply": "2023-08-22T09:07:59.391974Z",
     "shell.execute_reply.started": "2023-08-22T09:07:59.386560Z"
    },
    "id": "7v9-Fa48PdKR",
    "papermill": {
     "duration": null,
     "end_time": null,
     "exception": null,
     "start_time": null,
     "status": "pending"
    },
    "tags": []
   },
   "outputs": [],
   "source": [
    "x_train[1]"
   ]
  },
  {
   "cell_type": "code",
   "execution_count": null,
   "id": "2514fea8",
   "metadata": {
    "execution": {
     "iopub.execute_input": "2023-08-22T09:08:03.391015Z",
     "iopub.status.busy": "2023-08-22T09:08:03.390642Z",
     "iopub.status.idle": "2023-08-22T09:08:03.415141Z",
     "shell.execute_reply": "2023-08-22T09:08:03.414204Z",
     "shell.execute_reply.started": "2023-08-22T09:08:03.390982Z"
    },
    "id": "eHIT9g6iSpog",
    "papermill": {
     "duration": null,
     "end_time": null,
     "exception": null,
     "start_time": null,
     "status": "pending"
    },
    "tags": []
   },
   "outputs": [],
   "source": [
    "from sklearn.preprocessing import LabelEncoder\n",
    "from sklearn.preprocessing import OneHotEncoder\n",
    "le = LabelEncoder()\n",
    "encoder = OneHotEncoder(sparse=False)\n",
    "\n",
    "en_y_train = le.fit_transform(y_train)\n",
    "en_y_test = le.transform(y_test)\n",
    "\n",
    "en_y_train = en_y_train.reshape((en_y_train.shape[0], 1))\n",
    "y_train_ohe = encoder.fit_transform(en_y_train)\n",
    "\n",
    "en_y_test = en_y_test.reshape((en_y_test.shape[0], 1))\n",
    "y_test_ohe = encoder.fit_transform(en_y_test)"
   ]
  },
  {
   "cell_type": "code",
   "execution_count": null,
   "id": "0c90b181",
   "metadata": {
    "execution": {
     "iopub.execute_input": "2023-08-22T09:08:07.581806Z",
     "iopub.status.busy": "2023-08-22T09:08:07.581053Z",
     "iopub.status.idle": "2023-08-22T09:08:07.588205Z",
     "shell.execute_reply": "2023-08-22T09:08:07.587172Z",
     "shell.execute_reply.started": "2023-08-22T09:08:07.581767Z"
    },
    "id": "RIijs6olTbQU",
    "papermill": {
     "duration": null,
     "end_time": null,
     "exception": null,
     "start_time": null,
     "status": "pending"
    },
    "tags": []
   },
   "outputs": [],
   "source": [
    "y_train_ohe.shape"
   ]
  },
  {
   "cell_type": "code",
   "execution_count": null,
   "id": "f431a176",
   "metadata": {
    "execution": {
     "iopub.execute_input": "2023-08-22T09:08:10.471141Z",
     "iopub.status.busy": "2023-08-22T09:08:10.470780Z",
     "iopub.status.idle": "2023-08-22T09:08:10.476208Z",
     "shell.execute_reply": "2023-08-22T09:08:10.475218Z",
     "shell.execute_reply.started": "2023-08-22T09:08:10.471110Z"
    },
    "id": "E4UxZW5O-2qP",
    "papermill": {
     "duration": null,
     "end_time": null,
     "exception": null,
     "start_time": null,
     "status": "pending"
    },
    "tags": []
   },
   "outputs": [],
   "source": [
    "import tensorflow as tf\n",
    "from tensorflow.keras.preprocessing.text import Tokenizer\n",
    "from tensorflow.keras.preprocessing.sequence import pad_sequences"
   ]
  },
  {
   "cell_type": "code",
   "execution_count": null,
   "id": "5269c145",
   "metadata": {
    "execution": {
     "iopub.execute_input": "2023-08-22T09:08:14.372882Z",
     "iopub.status.busy": "2023-08-22T09:08:14.372493Z",
     "iopub.status.idle": "2023-08-22T09:08:14.868040Z",
     "shell.execute_reply": "2023-08-22T09:08:14.866307Z",
     "shell.execute_reply.started": "2023-08-22T09:08:14.372850Z"
    },
    "id": "tzwSezEm-69v",
    "papermill": {
     "duration": null,
     "end_time": null,
     "exception": null,
     "start_time": null,
     "status": "pending"
    },
    "tags": []
   },
   "outputs": [],
   "source": [
    "tokenizer = Tokenizer(lower=True)\n",
    "tokenizer.fit_on_texts(new_dataX)\n",
    "\n",
    "vocab_size = len(tokenizer.word_index) + 1\n",
    "print(vocab_size)"
   ]
  },
  {
   "cell_type": "code",
   "execution_count": null,
   "id": "5c2df416",
   "metadata": {
    "execution": {
     "iopub.execute_input": "2023-08-22T08:44:01.028308Z",
     "iopub.status.busy": "2023-08-22T08:44:01.027903Z",
     "iopub.status.idle": "2023-08-22T08:44:01.340181Z",
     "shell.execute_reply": "2023-08-22T08:44:01.339029Z",
     "shell.execute_reply.started": "2023-08-22T08:44:01.028272Z"
    },
    "papermill": {
     "duration": null,
     "end_time": null,
     "exception": null,
     "start_time": null,
     "status": "pending"
    },
    "tags": []
   },
   "outputs": [],
   "source": [
    "x_sequences = tokenizer.texts_to_sequences(x_train)\n",
    "maximum = 0\n",
    "for x in x_sequences:\n",
    "    if len(x)>maximum:\n",
    "        maximum = len(x)\n",
    "print(maximum)"
   ]
  },
  {
   "cell_type": "code",
   "execution_count": null,
   "id": "fce22d2f",
   "metadata": {
    "execution": {
     "iopub.execute_input": "2023-08-22T09:08:29.290160Z",
     "iopub.status.busy": "2023-08-22T09:08:29.289770Z",
     "iopub.status.idle": "2023-08-22T09:08:30.189482Z",
     "shell.execute_reply": "2023-08-22T09:08:30.188446Z",
     "shell.execute_reply.started": "2023-08-22T09:08:29.290128Z"
    },
    "id": "AOf-6WzW_CEY",
    "papermill": {
     "duration": null,
     "end_time": null,
     "exception": null,
     "start_time": null,
     "status": "pending"
    },
    "tags": []
   },
   "outputs": [],
   "source": [
    "x_train_sequences = tokenizer.texts_to_sequences(x_train)\n",
    "x_train_sequences_paded = pad_sequences(x_train_sequences, padding=\"post\", truncating=\"post\", maxlen=100)\n",
    "\n",
    "x_test_sequences = tokenizer.texts_to_sequences(x_test)\n",
    "x_test_sequences_paded = pad_sequences(x_test_sequences, padding=\"post\", truncating=\"post\", maxlen=100)"
   ]
  },
  {
   "cell_type": "code",
   "execution_count": null,
   "id": "de0e2c8f",
   "metadata": {
    "execution": {
     "iopub.execute_input": "2023-08-22T09:08:34.190444Z",
     "iopub.status.busy": "2023-08-22T09:08:34.190057Z",
     "iopub.status.idle": "2023-08-22T09:08:34.198849Z",
     "shell.execute_reply": "2023-08-22T09:08:34.197630Z",
     "shell.execute_reply.started": "2023-08-22T09:08:34.190412Z"
    },
    "id": "INEN_9UlPzyS",
    "papermill": {
     "duration": null,
     "end_time": null,
     "exception": null,
     "start_time": null,
     "status": "pending"
    },
    "tags": []
   },
   "outputs": [],
   "source": [
    "x_train_sequences_paded[1]"
   ]
  },
  {
   "cell_type": "code",
   "execution_count": null,
   "id": "e0e06042",
   "metadata": {
    "execution": {
     "iopub.execute_input": "2023-08-22T08:44:29.214060Z",
     "iopub.status.busy": "2023-08-22T08:44:29.213690Z",
     "iopub.status.idle": "2023-08-22T08:44:29.220033Z",
     "shell.execute_reply": "2023-08-22T08:44:29.218660Z",
     "shell.execute_reply.started": "2023-08-22T08:44:29.214027Z"
    },
    "id": "ZLd4gAHB_YDx",
    "papermill": {
     "duration": null,
     "end_time": null,
     "exception": null,
     "start_time": null,
     "status": "pending"
    },
    "tags": []
   },
   "outputs": [],
   "source": [
    "print(x_train_sequences_paded.shape)\n",
    "print(x_test_sequences_paded.shape)\n",
    "\n",
    "# x_train_sequences_paded = x_train_sequences_paded/(vocab_size-1)\n",
    "# x_test_sequences_paded = x_test_sequences_paded/(vocab_size-1)"
   ]
  },
  {
   "cell_type": "code",
   "execution_count": null,
   "id": "4695603d",
   "metadata": {
    "execution": {
     "iopub.execute_input": "2023-08-22T08:43:32.163621Z",
     "iopub.status.busy": "2023-08-22T08:43:32.162486Z",
     "iopub.status.idle": "2023-08-22T08:43:32.170917Z",
     "shell.execute_reply": "2023-08-22T08:43:32.169820Z",
     "shell.execute_reply.started": "2023-08-22T08:43:32.163588Z"
    },
    "id": "YF8H00N5_cKB",
    "papermill": {
     "duration": null,
     "end_time": null,
     "exception": null,
     "start_time": null,
     "status": "pending"
    },
    "tags": []
   },
   "outputs": [],
   "source": [
    "print(y_train.shape)\n",
    "print(y_test.shape)"
   ]
  },
  {
   "cell_type": "code",
   "execution_count": null,
   "id": "c76bc9a8",
   "metadata": {
    "execution": {
     "iopub.execute_input": "2023-08-22T09:11:04.093062Z",
     "iopub.status.busy": "2023-08-22T09:11:04.092677Z",
     "iopub.status.idle": "2023-08-22T09:11:04.163668Z",
     "shell.execute_reply": "2023-08-22T09:11:04.162922Z",
     "shell.execute_reply.started": "2023-08-22T09:11:04.093029Z"
    },
    "id": "XR5YmQcN_r5Z",
    "papermill": {
     "duration": null,
     "end_time": null,
     "exception": null,
     "start_time": null,
     "status": "pending"
    },
    "tags": []
   },
   "outputs": [],
   "source": [
    "from tensorflow.keras.layers import Dense, Dropout, Embedding, AveragePooling1D,Flatten,MaxPooling1D,Input\n",
    "from tensorflow.keras.models import Sequential\n",
    "from tensorflow.keras.callbacks import EarlyStopping\n",
    "# input_dim= sh, output_dim=1, input_length=200\n",
    "embedding_dim=300\n",
    "model = Sequential()\n",
    "model.add(Embedding(input_dim = vocab_size, output_dim =3, input_length=100))\n",
    "# model.add(AveragePooling1D())\n",
    "model.add(Flatten())\n",
    "# model.add(Dense(512, activation='relu'))\n",
    "# model.add(Dense(256, activation='relu'))\n",
    "# model.add(Dense(128, activation='relu'))\n",
    "model.add(Dense(64, activation='relu'))\n",
    "model.add(Dense(2, activation='softmax'))\n",
    "\n",
    "model.compile(loss='categorical_crossentropy', optimizer='adam', metrics=['accuracy'])\n",
    "print(model.summary())"
   ]
  },
  {
   "cell_type": "code",
   "execution_count": null,
   "id": "9b5c4368",
   "metadata": {
    "execution": {
     "iopub.execute_input": "2023-08-22T08:43:36.673788Z",
     "iopub.status.busy": "2023-08-22T08:43:36.673294Z",
     "iopub.status.idle": "2023-08-22T08:43:36.678955Z",
     "shell.execute_reply": "2023-08-22T08:43:36.678182Z",
     "shell.execute_reply.started": "2023-08-22T08:43:36.673744Z"
    },
    "id": "ClFkbncVA3fM",
    "papermill": {
     "duration": null,
     "end_time": null,
     "exception": null,
     "start_time": null,
     "status": "pending"
    },
    "tags": []
   },
   "outputs": [],
   "source": [
    "# print(Tf_en_x_train.shape)\n",
    "# print(y_train.shape)"
   ]
  },
  {
   "cell_type": "code",
   "execution_count": null,
   "id": "e70488bc",
   "metadata": {
    "execution": {
     "iopub.execute_input": "2023-08-22T09:11:07.593611Z",
     "iopub.status.busy": "2023-08-22T09:11:07.592539Z",
     "iopub.status.idle": "2023-08-22T09:12:20.224424Z",
     "shell.execute_reply": "2023-08-22T09:12:20.223213Z",
     "shell.execute_reply.started": "2023-08-22T09:11:07.593566Z"
    },
    "id": "1OkDotPe_4dZ",
    "papermill": {
     "duration": null,
     "end_time": null,
     "exception": null,
     "start_time": null,
     "status": "pending"
    },
    "tags": []
   },
   "outputs": [],
   "source": [
    "ann_history = model.fit(x_train_sequences_paded, y_train_ohe, batch_size = 32, epochs = 20, validation_split=0.1)"
   ]
  },
  {
   "cell_type": "code",
   "execution_count": null,
   "id": "6c17f2ee",
   "metadata": {
    "execution": {
     "iopub.execute_input": "2023-08-22T09:10:28.181184Z",
     "iopub.status.busy": "2023-08-22T09:10:28.180811Z",
     "iopub.status.idle": "2023-08-22T09:10:28.323265Z",
     "shell.execute_reply": "2023-08-22T09:10:28.322058Z",
     "shell.execute_reply.started": "2023-08-22T09:10:28.181151Z"
    },
    "id": "x75rY0MTX0wD",
    "papermill": {
     "duration": null,
     "end_time": null,
     "exception": null,
     "start_time": null,
     "status": "pending"
    },
    "tags": []
   },
   "outputs": [],
   "source": [
    "def seedText(txt):\n",
    "  x_sequences = tokenizer.texts_to_sequences([txt])\n",
    "  x_sequences_paded = pad_sequences(x_sequences,padding=\"post\",truncating=\"post\", maxlen=100)\n",
    "  return x_sequences_paded\n",
    "\n",
    "text = \"এই কুত্তার বাচ্চাদের জন্য দেশটা আজ এমন অবস্তায় এই তিনটা পুলিশ কে তরে সবার সামনে মেরে পেলা দরকার \"\n",
    "text2 = \"আর আমার খুবেই আনন্দ লাকছে ভাইটি চাকরি পেয়েছে\"\n",
    "cleanTxt = clean_bangla_sentence(text)\n",
    "print(cleanTxt)\n",
    "seed = seedText(cleanTxt)\n",
    "pred = model.predict(seed)\n",
    "# seed.shape\n",
    "print(np.argmax(pred))\n",
    "pred.shape\n",
    "print(pred)"
   ]
  },
  {
   "cell_type": "code",
   "execution_count": null,
   "id": "b79e1fc3",
   "metadata": {
    "execution": {
     "iopub.status.busy": "2023-08-22T08:43:37.296093Z",
     "iopub.status.idle": "2023-08-22T08:43:37.296804Z",
     "shell.execute_reply": "2023-08-22T08:43:37.296576Z",
     "shell.execute_reply.started": "2023-08-22T08:43:37.296552Z"
    },
    "id": "0GNnfqT4AHkS",
    "papermill": {
     "duration": null,
     "end_time": null,
     "exception": null,
     "start_time": null,
     "status": "pending"
    },
    "tags": []
   },
   "outputs": [],
   "source": [
    "model.evaluate(x_test_sequences_paded,y_test_ohe)"
   ]
  },
  {
   "cell_type": "code",
   "execution_count": null,
   "id": "162a74f4",
   "metadata": {
    "execution": {
     "iopub.execute_input": "2023-08-22T08:49:09.843991Z",
     "iopub.status.busy": "2023-08-22T08:49:09.843567Z",
     "iopub.status.idle": "2023-08-22T08:49:09.853587Z",
     "shell.execute_reply": "2023-08-22T08:49:09.852610Z",
     "shell.execute_reply.started": "2023-08-22T08:49:09.843954Z"
    },
    "id": "PBlb191oJKwN",
    "papermill": {
     "duration": null,
     "end_time": null,
     "exception": null,
     "start_time": null,
     "status": "pending"
    },
    "tags": []
   },
   "outputs": [],
   "source": [
    "from tensorflow.keras.layers import Conv1D,Bidirectional,LSTM\n",
    "from keras.optimizers import SGD,Adam\n",
    "from keras import regularizers"
   ]
  },
  {
   "cell_type": "code",
   "execution_count": null,
   "id": "24cea66a",
   "metadata": {
    "execution": {
     "iopub.execute_input": "2023-08-22T08:49:13.910970Z",
     "iopub.status.busy": "2023-08-22T08:49:13.910607Z",
     "iopub.status.idle": "2023-08-22T08:49:15.399794Z",
     "shell.execute_reply": "2023-08-22T08:49:15.398706Z",
     "shell.execute_reply.started": "2023-08-22T08:49:13.910938Z"
    },
    "id": "2A4bWfsdG96f",
    "papermill": {
     "duration": null,
     "end_time": null,
     "exception": null,
     "start_time": null,
     "status": "pending"
    },
    "tags": []
   },
   "outputs": [],
   "source": [
    "embedding_dim = 300\n",
    "model2= Sequential()\n",
    "model2.add(Embedding(vocab_size, embedding_dim, input_length=200))\n",
    "model2.add(Conv1D(200, kernel_size=3, activation = \"relu\"))\n",
    "model2.add(Bidirectional(LSTM(64, return_sequences=True)))\n",
    "model2.add(Dropout(0.5))\n",
    "model2.add(Bidirectional(LSTM(64)))\n",
    "model2.add(Dense(50, activation='relu'))\n",
    "model2.add(Dense(50, activation='relu'))\n",
    "model2.add(Flatten())\n",
    "\n",
    "model2.add(Dense(100,kernel_regularizer=regularizers.l2(0.01),activation=\"relu\"))\n",
    "model2.add(Dense(2, activation='softmax'))\n",
    "\n",
    "adam=Adam(learning_rate=0.0005,beta_1=0.9,beta_2=0.999,epsilon=1e-07,amsgrad=False)\n",
    "model2.summary()\n",
    "model2.compile(loss='categorical_crossentropy',optimizer=adam,metrics=['accuracy'])"
   ]
  },
  {
   "cell_type": "code",
   "execution_count": null,
   "id": "324206bd",
   "metadata": {
    "execution": {
     "iopub.execute_input": "2023-08-22T08:49:19.995993Z",
     "iopub.status.busy": "2023-08-22T08:49:19.995590Z",
     "iopub.status.idle": "2023-08-22T08:55:47.458570Z",
     "shell.execute_reply": "2023-08-22T08:55:47.456767Z",
     "shell.execute_reply.started": "2023-08-22T08:49:19.995948Z"
    },
    "id": "_uBBhp1dJryG",
    "papermill": {
     "duration": null,
     "end_time": null,
     "exception": null,
     "start_time": null,
     "status": "pending"
    },
    "tags": []
   },
   "outputs": [],
   "source": [
    "cnnLstm_history = model2.fit(x_train_sequences_paded, y_train_ohe, batch_size = 32, epochs = 20, validation_split=0.1)"
   ]
  },
  {
   "cell_type": "code",
   "execution_count": null,
   "id": "474535f7",
   "metadata": {
    "execution": {
     "iopub.execute_input": "2023-08-22T08:56:34.693071Z",
     "iopub.status.busy": "2023-08-22T08:56:34.692699Z",
     "iopub.status.idle": "2023-08-22T08:56:37.310320Z",
     "shell.execute_reply": "2023-08-22T08:56:37.309276Z",
     "shell.execute_reply.started": "2023-08-22T08:56:34.693038Z"
    },
    "id": "IbfPz1eHO7l4",
    "papermill": {
     "duration": null,
     "end_time": null,
     "exception": null,
     "start_time": null,
     "status": "pending"
    },
    "tags": []
   },
   "outputs": [],
   "source": [
    "model2.evaluate(x_test_sequences_paded,y_test_ohe)"
   ]
  },
  {
   "cell_type": "code",
   "execution_count": null,
   "id": "dd752965",
   "metadata": {
    "execution": {
     "iopub.execute_input": "2023-08-22T09:17:58.223999Z",
     "iopub.status.busy": "2023-08-22T09:17:58.223587Z",
     "iopub.status.idle": "2023-08-22T09:17:59.350831Z",
     "shell.execute_reply": "2023-08-22T09:17:59.349927Z",
     "shell.execute_reply.started": "2023-08-22T09:17:58.223964Z"
    },
    "id": "EOYIRvxaOTFn",
    "papermill": {
     "duration": null,
     "end_time": null,
     "exception": null,
     "start_time": null,
     "status": "pending"
    },
    "tags": []
   },
   "outputs": [],
   "source": [
    "model3 = Sequential()\n",
    "model3.add(Embedding(input_dim = vocab_size, output_dim =3, input_length=100))\n",
    "model3.add(Bidirectional(LSTM(128, return_sequences=True)))\n",
    "model3.add(Dropout(0.5))\n",
    "model3.add(Bidirectional(LSTM(64)))\n",
    "model3.add(Dense(64, activation='relu'))\n",
    "model3.add(Dense(2, activation =\"softmax\"))\n",
    "\n",
    "adam=Adam(learning_rate=0.0005,beta_1=0.9,beta_2=0.999,epsilon=1e-07,amsgrad=False)\n",
    "model3.compile(loss='categorical_crossentropy',optimizer=adam,metrics=['accuracy'])\n",
    "\n",
    "model3.summary()"
   ]
  },
  {
   "cell_type": "code",
   "execution_count": null,
   "id": "f46edb99",
   "metadata": {
    "execution": {
     "iopub.execute_input": "2023-08-22T09:18:37.745120Z",
     "iopub.status.busy": "2023-08-22T09:18:37.744746Z",
     "iopub.status.idle": "2023-08-22T09:22:13.132698Z",
     "shell.execute_reply": "2023-08-22T09:22:13.131478Z",
     "shell.execute_reply.started": "2023-08-22T09:18:37.745088Z"
    },
    "papermill": {
     "duration": null,
     "end_time": null,
     "exception": null,
     "start_time": null,
     "status": "pending"
    },
    "tags": []
   },
   "outputs": [],
   "source": [
    "Lstm_history = model3.fit(x_train_sequences_paded, y_train_ohe, batch_size = 32, epochs = 20, validation_split=0.1)"
   ]
  },
  {
   "cell_type": "markdown",
   "id": "b948b06a",
   "metadata": {
    "papermill": {
     "duration": null,
     "end_time": null,
     "exception": null,
     "start_time": null,
     "status": "pending"
    },
    "tags": []
   },
   "source": [
    "# > > Machine Learning Models****"
   ]
  },
  {
   "cell_type": "code",
   "execution_count": null,
   "id": "32c24e88",
   "metadata": {
    "execution": {
     "iopub.status.busy": "2023-08-22T08:43:37.306178Z",
     "iopub.status.idle": "2023-08-22T08:43:37.306927Z",
     "shell.execute_reply": "2023-08-22T08:43:37.306687Z",
     "shell.execute_reply.started": "2023-08-22T08:43:37.306663Z"
    },
    "papermill": {
     "duration": null,
     "end_time": null,
     "exception": null,
     "start_time": null,
     "status": "pending"
    },
    "tags": []
   },
   "outputs": [],
   "source": [
    "data.to_excel(\"check.xlsx\")"
   ]
  },
  {
   "cell_type": "code",
   "execution_count": null,
   "id": "bea0a059",
   "metadata": {
    "execution": {
     "iopub.execute_input": "2023-08-22T09:05:09.119574Z",
     "iopub.status.busy": "2023-08-22T09:05:09.119096Z",
     "iopub.status.idle": "2023-08-22T09:05:09.124682Z",
     "shell.execute_reply": "2023-08-22T09:05:09.123577Z",
     "shell.execute_reply.started": "2023-08-22T09:05:09.119537Z"
    },
    "id": "etEgbymGPCzY",
    "papermill": {
     "duration": null,
     "end_time": null,
     "exception": null,
     "start_time": null,
     "status": "pending"
    },
    "tags": []
   },
   "outputs": [],
   "source": [
    "X = temp_data.loc[:,\"text\"]\n",
    "Y = temp_data.loc[:,\"label\"]"
   ]
  },
  {
   "cell_type": "code",
   "execution_count": null,
   "id": "eaef0e51",
   "metadata": {
    "execution": {
     "iopub.execute_input": "2023-08-22T09:05:12.216318Z",
     "iopub.status.busy": "2023-08-22T09:05:12.215919Z",
     "iopub.status.idle": "2023-08-22T09:05:12.226922Z",
     "shell.execute_reply": "2023-08-22T09:05:12.226009Z",
     "shell.execute_reply.started": "2023-08-22T09:05:12.216282Z"
    },
    "papermill": {
     "duration": null,
     "end_time": null,
     "exception": null,
     "start_time": null,
     "status": "pending"
    },
    "tags": []
   },
   "outputs": [],
   "source": [
    "x_train,x_test,y_train,y_test = train_test_split(X,Y, test_size=0.2)"
   ]
  },
  {
   "cell_type": "code",
   "execution_count": null,
   "id": "607559c1",
   "metadata": {
    "execution": {
     "iopub.execute_input": "2023-08-22T09:05:15.336447Z",
     "iopub.status.busy": "2023-08-22T09:05:15.336071Z",
     "iopub.status.idle": "2023-08-22T09:05:15.345675Z",
     "shell.execute_reply": "2023-08-22T09:05:15.344299Z",
     "shell.execute_reply.started": "2023-08-22T09:05:15.336416Z"
    },
    "papermill": {
     "duration": null,
     "end_time": null,
     "exception": null,
     "start_time": null,
     "status": "pending"
    },
    "tags": []
   },
   "outputs": [],
   "source": [
    "print(x_train[1])\n"
   ]
  },
  {
   "cell_type": "code",
   "execution_count": null,
   "id": "078324f3",
   "metadata": {
    "execution": {
     "iopub.execute_input": "2023-08-22T09:05:20.333399Z",
     "iopub.status.busy": "2023-08-22T09:05:20.333004Z",
     "iopub.status.idle": "2023-08-22T09:05:20.338106Z",
     "shell.execute_reply": "2023-08-22T09:05:20.336887Z",
     "shell.execute_reply.started": "2023-08-22T09:05:20.333364Z"
    },
    "papermill": {
     "duration": null,
     "end_time": null,
     "exception": null,
     "start_time": null,
     "status": "pending"
    },
    "tags": []
   },
   "outputs": [],
   "source": [
    "from sklearn.preprocessing import LabelEncoder\n",
    "from sklearn.feature_extraction.text import TfidfVectorizer"
   ]
  },
  {
   "cell_type": "code",
   "execution_count": null,
   "id": "e56ce790",
   "metadata": {
    "execution": {
     "iopub.execute_input": "2023-08-22T09:05:24.568077Z",
     "iopub.status.busy": "2023-08-22T09:05:24.567722Z",
     "iopub.status.idle": "2023-08-22T09:05:25.349063Z",
     "shell.execute_reply": "2023-08-22T09:05:25.348072Z",
     "shell.execute_reply.started": "2023-08-22T09:05:24.568046Z"
    },
    "papermill": {
     "duration": null,
     "end_time": null,
     "exception": null,
     "start_time": null,
     "status": "pending"
    },
    "tags": []
   },
   "outputs": [],
   "source": [
    "en = LabelEncoder()\n",
    "tfidf = TfidfVectorizer(max_df=0.3)\n",
    "\n",
    "Tf_en_x_train = tfidf.fit_transform(x_train.values.astype(str))\n",
    "en_y_train = en.fit_transform(y_train)\n",
    "\n",
    "Tf_en_x_test = tfidf.transform(x_test.values.astype(str))\n",
    "en_y_test = en.transform(y_test)"
   ]
  },
  {
   "cell_type": "code",
   "execution_count": null,
   "id": "26e1eebe",
   "metadata": {
    "execution": {
     "iopub.execute_input": "2023-08-22T09:05:28.048922Z",
     "iopub.status.busy": "2023-08-22T09:05:28.048329Z",
     "iopub.status.idle": "2023-08-22T09:05:28.057106Z",
     "shell.execute_reply": "2023-08-22T09:05:28.056098Z",
     "shell.execute_reply.started": "2023-08-22T09:05:28.048879Z"
    },
    "papermill": {
     "duration": null,
     "end_time": null,
     "exception": null,
     "start_time": null,
     "status": "pending"
    },
    "tags": []
   },
   "outputs": [],
   "source": [
    "en_y_train[0]"
   ]
  },
  {
   "cell_type": "code",
   "execution_count": null,
   "id": "00f7c7d6",
   "metadata": {
    "execution": {
     "iopub.execute_input": "2023-08-22T09:05:31.736024Z",
     "iopub.status.busy": "2023-08-22T09:05:31.735650Z",
     "iopub.status.idle": "2023-08-22T09:05:31.742161Z",
     "shell.execute_reply": "2023-08-22T09:05:31.741196Z",
     "shell.execute_reply.started": "2023-08-22T09:05:31.735993Z"
    },
    "papermill": {
     "duration": null,
     "end_time": null,
     "exception": null,
     "start_time": null,
     "status": "pending"
    },
    "tags": []
   },
   "outputs": [],
   "source": [
    "print(Tf_en_x_train.shape)\n",
    "\n",
    "print(en_y_train.shape)\n",
    "\n",
    "print(Tf_en_x_test.shape)\n",
    "\n",
    "print(en_y_test.shape)"
   ]
  },
  {
   "cell_type": "code",
   "execution_count": null,
   "id": "ef93a67b",
   "metadata": {
    "execution": {
     "iopub.execute_input": "2023-08-22T09:05:38.311874Z",
     "iopub.status.busy": "2023-08-22T09:05:38.311189Z",
     "iopub.status.idle": "2023-08-22T09:05:41.001690Z",
     "shell.execute_reply": "2023-08-22T09:05:41.000704Z",
     "shell.execute_reply.started": "2023-08-22T09:05:38.311839Z"
    },
    "papermill": {
     "duration": null,
     "end_time": null,
     "exception": null,
     "start_time": null,
     "status": "pending"
    },
    "tags": []
   },
   "outputs": [],
   "source": [
    "from sklearn import tree\n",
    "\n",
    "dt_model = tree.DecisionTreeClassifier()\n",
    "\n",
    "dt_model.fit(Tf_en_x_train,en_y_train)"
   ]
  },
  {
   "cell_type": "code",
   "execution_count": null,
   "id": "31fa6bff",
   "metadata": {
    "execution": {
     "iopub.execute_input": "2023-08-22T09:05:51.369043Z",
     "iopub.status.busy": "2023-08-22T09:05:51.368656Z",
     "iopub.status.idle": "2023-08-22T09:05:51.380076Z",
     "shell.execute_reply": "2023-08-22T09:05:51.377745Z",
     "shell.execute_reply.started": "2023-08-22T09:05:51.369009Z"
    },
    "papermill": {
     "duration": null,
     "end_time": null,
     "exception": null,
     "start_time": null,
     "status": "pending"
    },
    "tags": []
   },
   "outputs": [],
   "source": [
    "dt_pred = dt_model.predict(Tf_en_x_test)"
   ]
  },
  {
   "cell_type": "code",
   "execution_count": null,
   "id": "e1cbe412",
   "metadata": {
    "execution": {
     "iopub.execute_input": "2023-08-22T09:05:57.713620Z",
     "iopub.status.busy": "2023-08-22T09:05:57.713191Z",
     "iopub.status.idle": "2023-08-22T09:05:57.739713Z",
     "shell.execute_reply": "2023-08-22T09:05:57.738602Z",
     "shell.execute_reply.started": "2023-08-22T09:05:57.713584Z"
    },
    "papermill": {
     "duration": null,
     "end_time": null,
     "exception": null,
     "start_time": null,
     "status": "pending"
    },
    "tags": []
   },
   "outputs": [],
   "source": [
    "from sklearn.metrics import classification_report\n",
    "from sklearn.metrics import accuracy_score\n",
    "dt_acc = accuracy_score(en_y_test, dt_pred)\n",
    "\n",
    "print(dt_acc)\n",
    "print(classification_report(en_y_test,dt_pred))\n",
    "\n",
    "print(dt_model.score(Tf_en_x_test,en_y_test))"
   ]
  },
  {
   "cell_type": "code",
   "execution_count": null,
   "id": "2402a5a6",
   "metadata": {
    "execution": {
     "iopub.execute_input": "2023-08-22T09:06:03.145422Z",
     "iopub.status.busy": "2023-08-22T09:06:03.144497Z",
     "iopub.status.idle": "2023-08-22T09:06:03.168659Z",
     "shell.execute_reply": "2023-08-22T09:06:03.167576Z",
     "shell.execute_reply.started": "2023-08-22T09:06:03.145374Z"
    },
    "papermill": {
     "duration": null,
     "end_time": null,
     "exception": null,
     "start_time": null,
     "status": "pending"
    },
    "tags": []
   },
   "outputs": [],
   "source": [
    "from sklearn.naive_bayes import MultinomialNB\n",
    "\n",
    "nb_model = MultinomialNB()\n",
    "\n",
    "nb_model.fit(Tf_en_x_train,en_y_train)"
   ]
  },
  {
   "cell_type": "code",
   "execution_count": null,
   "id": "0b080f5e",
   "metadata": {
    "execution": {
     "iopub.execute_input": "2023-08-22T09:06:06.247909Z",
     "iopub.status.busy": "2023-08-22T09:06:06.247533Z",
     "iopub.status.idle": "2023-08-22T09:06:06.272806Z",
     "shell.execute_reply": "2023-08-22T09:06:06.271903Z",
     "shell.execute_reply.started": "2023-08-22T09:06:06.247877Z"
    },
    "papermill": {
     "duration": null,
     "end_time": null,
     "exception": null,
     "start_time": null,
     "status": "pending"
    },
    "tags": []
   },
   "outputs": [],
   "source": [
    "from sklearn.metrics import classification_report\n",
    "from sklearn.metrics import accuracy_score\n",
    "\n",
    "nb_pred = nb_model.predict(Tf_en_x_test)\n",
    "nb_acc = accuracy_score(en_y_test, nb_pred)\n",
    "\n",
    "print(classification_report(en_y_test,nb_pred))\n",
    "print(nb_model.score(Tf_en_x_test,en_y_test))"
   ]
  }
 ],
 "kernelspec": {
  "display_name": "Python 3",
  "language": "python",
  "name": "python3"
 },
 "language_info": {
  "codemirror_mode": {
   "name": "ipython",
   "version": 3
  },
  "file_extension": ".py",
  "mimetype": "text/x-python",
  "name": "python",
  "nbconvert_exporter": "python",
  "pygments_lexer": "ipython3",
  "version": "3.6.4"
 },
 "metadata": {
  "accelerator": "GPU",
  "colab": {
   "gpuType": "T4",
   "provenance": []
  },
  "kernelspec": {
   "display_name": "Python 3",
   "language": "python",
   "name": "python3"
  },
  "language_info": {
   "codemirror_mode": {
    "name": "ipython",
    "version": 3
   },
   "file_extension": ".py",
   "mimetype": "text/x-python",
   "name": "python",
   "nbconvert_exporter": "python",
   "pygments_lexer": "ipython3",
   "version": "3.10.12"
  },
  "papermill": {
   "default_parameters": {},
   "duration": 63.365363,
   "end_time": "2023-09-04T14:04:49.410002",
   "environment_variables": {},
   "exception": true,
   "input_path": "__notebook__.ipynb",
   "output_path": "__notebook__.ipynb",
   "parameters": {},
   "start_time": "2023-09-04T14:03:46.044639",
   "version": "2.4.0"
  }
 },
 "nbformat": 4,
 "nbformat_minor": 5
}
